{
 "cells": [
  {
   "cell_type": "markdown",
   "metadata": {},
   "source": [
    "<h2>CS 3780/5780 Creative Project: </h2>\n",
    "<h3>Emotion Classification of Natural Language</h3>\n",
    "\n",
    "Names and NetIDs for your group members: James Tu (jt737), Andrew Cheung (aec295)"
   ]
  },
  {
   "cell_type": "markdown",
   "metadata": {},
   "source": [
    "<h3>Introduction:</h3>\n",
    "\n",
    "<p> The creative project is about conducting a real-world machine learning project on your own, with everything that is involved. Unlike in the programming projects 1-5, where we gave you all the scaffolding and you just filled in the blanks, you now start from scratch. The past programming projects provide templates for how to do this (and you can reuse part of your code if you wish), and the lectures provide some of the methods you can use. So, this creative project brings realism to how you will use machine learning in the real world.  </p>\n",
    "\n",
    "The task you will work on is classifying texts to human emotions. Through words, humans express feelings, articulate thoughts, and communicate our deepest needs and desires. Language helps us interpret the nuances of joy, sadness, anger, and love, allowing us to connect with others on a deeper level. Are you able to train an ML model that recognizes the human emotions expressed in a piece of text? <b>Please read the project description PDF file carefully and follow the instructions there. Also make sure you write your code and answers to all the questions in this Jupyter Notebook </b> </p>\n",
    "<p>\n"
   ]
  },
  {
   "cell_type": "markdown",
   "metadata": {},
   "source": [
    "<h2>Part 0: Basics</h2><p>"
   ]
  },
  {
   "cell_type": "markdown",
   "metadata": {},
   "source": [
    "<h3>0.1 Import:</h3><p>\n",
    "Please import necessary packages to use. Note that learning and using packages are recommended but not required for this project. Some official tutorial for suggested packacges includes:\n",
    "    \n",
    "https://scikit-learn.org/stable/tutorial/basic/tutorial.html\n",
    "    \n",
    "https://pytorch.org/tutorials/\n",
    "    \n",
    "https://pandas.pydata.org/pandas-docs/stable/user_guide/10min.html\n",
    "<p>"
   ]
  },
  {
   "cell_type": "code",
   "execution_count": 1,
   "metadata": {},
   "outputs": [],
   "source": [
    "import os\n",
    "import pandas as pd\n",
    "import numpy as np\n",
    "import torch\n",
    "# TODO"
   ]
  },
  {
   "cell_type": "markdown",
   "metadata": {},
   "source": [
    "<h3>0.2 Accuracy and Mean Squared Error:</h3><p>\n",
    "To measure your performance in the Kaggle Competition, we are using accuracy. As a recap, accuracy is the percent of labels you predict correctly. To measure this, you can use library functions from sklearn. A simple example is shown below. \n",
    "<p>"
   ]
  },
  {
   "cell_type": "code",
   "execution_count": 2,
   "metadata": {},
   "outputs": [
    {
     "data": {
      "text/plain": [
       "0.42857142857142855"
      ]
     },
     "execution_count": 2,
     "metadata": {},
     "output_type": "execute_result"
    }
   ],
   "source": [
    "from sklearn.metrics import accuracy_score\n",
    "y_pred = [3, 2, 1, 0, 1, 2, 3]\n",
    "y_true = [0, 1, 2, 3, 1, 2, 3]\n",
    "accuracy_score(y_true, y_pred)"
   ]
  },
  {
   "cell_type": "markdown",
   "metadata": {},
   "source": [
    "<h2>Part 1: Basic</h2><p>\n",
    "Note that your code should be commented well and in part 1.4 you can refer to your comments."
   ]
  },
  {
   "cell_type": "markdown",
   "metadata": {},
   "source": [
    "<h3>1.1 Load and preprocess the dataset:</h3><p>\n",
    "We provide how to load the data on Kaggle's Notebook.\n",
    "<p>"
   ]
  },
  {
   "cell_type": "code",
   "execution_count": 3,
   "metadata": {},
   "outputs": [],
   "source": [
    "# train = pd.read_csv(\"/kaggle/input/cs-3780-5780-how-do-you-feel/train.csv\")\n",
    "# train_text = train[\"text\"]\n",
    "# train_label = train[\"label\"]\n",
    "\n",
    "# test = pd.read_csv(\"/kaggle/input/cs-3780-5780-how-do-you-feel/test.csv\")\n",
    "# test_id = test[\"id\"]\n",
    "# test_text = test[\"text\"]"
   ]
  },
  {
   "cell_type": "code",
   "execution_count": 3,
   "metadata": {},
   "outputs": [],
   "source": [
    "# Make sure you comment your code clearly and you may refer to these comments in the part 1.4\n",
    "\n",
    "train = pd.read_csv(\"../data/train.csv\")\n",
    "train_text = train[\"text\"]\n",
    "train_label = train[\"label\"]\n",
    "\n",
    "test = pd.read_csv(\"../data/test.csv\")\n",
    "test_id = test[\"id\"]\n",
    "test_text = test[\"text\"]\n"
   ]
  },
  {
   "cell_type": "code",
   "execution_count": 4,
   "metadata": {},
   "outputs": [
    {
     "data": {
      "text/html": [
       "<div>\n",
       "<style scoped>\n",
       "    .dataframe tbody tr th:only-of-type {\n",
       "        vertical-align: middle;\n",
       "    }\n",
       "\n",
       "    .dataframe tbody tr th {\n",
       "        vertical-align: top;\n",
       "    }\n",
       "\n",
       "    .dataframe thead th {\n",
       "        text-align: right;\n",
       "    }\n",
       "</style>\n",
       "<table border=\"1\" class=\"dataframe\">\n",
       "  <thead>\n",
       "    <tr style=\"text-align: right;\">\n",
       "      <th></th>\n",
       "      <th>text</th>\n",
       "      <th>label</th>\n",
       "    </tr>\n",
       "  </thead>\n",
       "  <tbody>\n",
       "    <tr>\n",
       "      <th>0</th>\n",
       "      <td>i interact with on a daily basis either in rea...</td>\n",
       "      <td>1</td>\n",
       "    </tr>\n",
       "    <tr>\n",
       "      <th>1</th>\n",
       "      <td>Stranger than fiction. Can't even begin to com...</td>\n",
       "      <td>1</td>\n",
       "    </tr>\n",
       "    <tr>\n",
       "      <th>2</th>\n",
       "      <td>i sit here with the aftermath feeling so damn ...</td>\n",
       "      <td>1</td>\n",
       "    </tr>\n",
       "    <tr>\n",
       "      <th>3</th>\n",
       "      <td>Great job! Hats off to you.</td>\n",
       "      <td>25</td>\n",
       "    </tr>\n",
       "    <tr>\n",
       "      <th>4</th>\n",
       "      <td>i hate you threads posted by people just whini...</td>\n",
       "      <td>9</td>\n",
       "    </tr>\n",
       "  </tbody>\n",
       "</table>\n",
       "</div>"
      ],
      "text/plain": [
       "                                                text  label\n",
       "0  i interact with on a daily basis either in rea...      1\n",
       "1  Stranger than fiction. Can't even begin to com...      1\n",
       "2  i sit here with the aftermath feeling so damn ...      1\n",
       "3                        Great job! Hats off to you.     25\n",
       "4  i hate you threads posted by people just whini...      9"
      ]
     },
     "execution_count": 4,
     "metadata": {},
     "output_type": "execute_result"
    }
   ],
   "source": [
    "train.head()"
   ]
  },
  {
   "cell_type": "code",
   "execution_count": 5,
   "metadata": {},
   "outputs": [
    {
     "data": {
      "text/html": [
       "<div>\n",
       "<style scoped>\n",
       "    .dataframe tbody tr th:only-of-type {\n",
       "        vertical-align: middle;\n",
       "    }\n",
       "\n",
       "    .dataframe tbody tr th {\n",
       "        vertical-align: top;\n",
       "    }\n",
       "\n",
       "    .dataframe thead th {\n",
       "        text-align: right;\n",
       "    }\n",
       "</style>\n",
       "<table border=\"1\" class=\"dataframe\">\n",
       "  <thead>\n",
       "    <tr style=\"text-align: right;\">\n",
       "      <th></th>\n",
       "      <th>id</th>\n",
       "      <th>text</th>\n",
       "    </tr>\n",
       "  </thead>\n",
       "  <tbody>\n",
       "    <tr>\n",
       "      <th>0</th>\n",
       "      <td>0</td>\n",
       "      <td>im feeling like a hot potato right now</td>\n",
       "    </tr>\n",
       "    <tr>\n",
       "      <th>1</th>\n",
       "      <td>1</td>\n",
       "      <td>i feel that are becoming impressed upon my lit...</td>\n",
       "    </tr>\n",
       "    <tr>\n",
       "      <th>2</th>\n",
       "      <td>2</td>\n",
       "      <td>id ever held any girls hand but boy did i sure...</td>\n",
       "    </tr>\n",
       "    <tr>\n",
       "      <th>3</th>\n",
       "      <td>3</td>\n",
       "      <td>i feel thats when i feel my grief over the bra...</td>\n",
       "    </tr>\n",
       "    <tr>\n",
       "      <th>4</th>\n",
       "      <td>4</td>\n",
       "      <td>i feel will never been resolved in a way to ke...</td>\n",
       "    </tr>\n",
       "  </tbody>\n",
       "</table>\n",
       "</div>"
      ],
      "text/plain": [
       "   id                                               text\n",
       "0   0             im feeling like a hot potato right now\n",
       "1   1  i feel that are becoming impressed upon my lit...\n",
       "2   2  id ever held any girls hand but boy did i sure...\n",
       "3   3  i feel thats when i feel my grief over the bra...\n",
       "4   4  i feel will never been resolved in a way to ke..."
      ]
     },
     "execution_count": 5,
     "metadata": {},
     "output_type": "execute_result"
    }
   ],
   "source": [
    "test.head()"
   ]
  },
  {
   "cell_type": "code",
   "execution_count": 8,
   "metadata": {},
   "outputs": [
    {
     "name": "stdout",
     "output_type": "stream",
     "text": [
      "Naive Bayes Accuracy: 0.428\n",
      "SVM Accuracy: 0.696\n"
     ]
    }
   ],
   "source": [
    "import pandas as pd\n",
    "from sklearn.feature_extraction.text import TfidfVectorizer\n",
    "from sklearn.model_selection import train_test_split\n",
    "from sklearn.naive_bayes import MultinomialNB\n",
    "from sklearn.svm import SVC\n",
    "from sklearn.metrics import accuracy_score\n",
    "\n",
    "# Assuming train_text, train_label, and test_text are already defined\n",
    "# Split the dataset into training and testing sets\n",
    "X_train, X_test, y_train, y_test = train_test_split(train_text, train_label, test_size=0.2, random_state=42)\n",
    "\n",
    "# Preprocess the data (vectorize text data)\n",
    "vectorizer = TfidfVectorizer()\n",
    "X_train_tfidf = vectorizer.fit_transform(X_train)\n",
    "X_test_tfidf = vectorizer.transform(X_test)\n",
    "\n",
    "# Train a Naive Bayes model\n",
    "nb_model = MultinomialNB()\n",
    "nb_model.fit(X_train_tfidf, y_train)\n",
    "\n",
    "# Predict and calculate accuracy for Naive Bayes model\n",
    "y_pred_nb = nb_model.predict(X_test_tfidf)\n",
    "accuracy_nb = accuracy_score(y_test, y_pred_nb)\n",
    "print(f'Naive Bayes Accuracy: {accuracy_nb}')\n",
    "\n",
    "# Train an SVM model\n",
    "svm_model = SVC(kernel='linear')\n",
    "svm_model.fit(X_train_tfidf, y_train)\n",
    "\n",
    "# Predict and calculate accuracy for SVM model\n",
    "y_pred_svm = svm_model.predict(X_test_tfidf)\n",
    "accuracy_svm = accuracy_score(y_test, y_pred_svm)\n",
    "print(f'SVM Accuracy: {accuracy_svm}')\n",
    "\n",
    "# Generate predictions for the test dataset using Naive Bayes model\n",
    "test_tfidf = vectorizer.transform(test_text)\n",
    "nb_predictions = nb_model.predict(test_tfidf)\n",
    "\n",
    "# Save Naive Bayes predictions to CSV\n",
    "nb_submission = pd.DataFrame({'id': range(len(nb_predictions)), 'label': nb_predictions})\n",
    "nb_submission.to_csv('../submission/nb_submission.csv', index=False)\n",
    "\n",
    "# Generate predictions for the test dataset using SVM model\n",
    "svm_predictions = svm_model.predict(test_tfidf)\n",
    "\n",
    "# Save SVM predictions to CSV\n",
    "svm_submission = pd.DataFrame({'id': range(len(svm_predictions)), 'label': svm_predictions})\n",
    "svm_submission.to_csv('../submission/svm_submission.csv', index=False)"
   ]
  },
  {
   "cell_type": "code",
   "execution_count": 7,
   "metadata": {},
   "outputs": [],
   "source": [
    "import pandas as pd\n",
    "from sklearn.model_selection import train_test_split\n",
    "from sklearn.feature_extraction.text import TfidfVectorizer\n",
    "from sklearn.metrics import accuracy_score\n",
    "import xgboost as xgb\n",
    "from transformers import BertTokenizer, BertForSequenceClassification\n",
    "from transformers import Trainer, TrainingArguments\n",
    "import torch\n",
    "\n",
    "# Assuming train_text, train_label, and test_text are already defined\n",
    "\n",
    "# Split the dataset into training and testing sets\n",
    "X_train, X_test, y_train, y_test = train_test_split(train_text, train_label, test_size=0.2, random_state=42)\n",
    "\n",
    "# Preprocess the data (vectorize text data using TF-IDF)\n",
    "vectorizer = TfidfVectorizer(max_features=5000)\n",
    "X_train_tfidf = vectorizer.fit_transform(X_train)\n",
    "X_test_tfidf = vectorizer.transform(X_test)"
   ]
  },
  {
   "cell_type": "code",
   "execution_count": 25,
   "metadata": {},
   "outputs": [
    {
     "name": "stderr",
     "output_type": "stream",
     "text": [
      "/opt/anaconda3/envs/ml_final_project_env/lib/python3.8/site-packages/xgboost/core.py:158: UserWarning: [18:33:14] WARNING: /var/folders/k1/30mswbxs7r1g6zwn8y4fyt500000gp/T/abs_d9k8pmaj4_/croot/xgboost-split_1724073758172/work/src/learner.cc:740: \n",
      "Parameters: { \"use_label_encoder\" } are not used.\n",
      "\n",
      "  warnings.warn(smsg, UserWarning)\n"
     ]
    },
    {
     "name": "stdout",
     "output_type": "stream",
     "text": [
      "XGBoost Accuracy: 0.705\n"
     ]
    }
   ],
   "source": [
    "# Train an XGBoost model\n",
    "xgb_model = xgb.XGBClassifier(use_label_encoder=False, eval_metric='mlogloss')\n",
    "xgb_model.fit(X_train_tfidf, y_train)\n",
    "\n",
    "# Predict and calculate accuracy for XGBoost model\n",
    "y_pred_xgb = xgb_model.predict(X_test_tfidf)\n",
    "accuracy_xgb = accuracy_score(y_test, y_pred_xgb)\n",
    "print(f'XGBoost Accuracy: {accuracy_xgb}')\n",
    "\n",
    "# Generate predictions for the test dataset using XGBoost model\n",
    "test_tfidf = vectorizer.transform(test_text)\n",
    "xgb_predictions = xgb_model.predict(test_tfidf)\n",
    "\n",
    "# Save XGBoost predictions to CSV\n",
    "xgb_submission = pd.DataFrame({'id': range(len(xgb_predictions)), 'label': xgb_predictions})\n",
    "xgb_submission.to_csv('../submission/xgb_submission.csv', index=False)"
   ]
  },
  {
   "cell_type": "code",
   "execution_count": 8,
   "metadata": {},
   "outputs": [
    {
     "name": "stdout",
     "output_type": "stream",
     "text": [
      "zsh:1: no matches found: transformers[torch]\n",
      "Note: you may need to restart the kernel to use updated packages.\n"
     ]
    },
    {
     "name": "stderr",
     "output_type": "stream",
     "text": [
      "Some weights of BertForSequenceClassification were not initialized from the model checkpoint at bert-base-uncased and are newly initialized: ['classifier.bias', 'classifier.weight']\n",
      "You should probably TRAIN this model on a down-stream task to be able to use it for predictions and inference.\n"
     ]
    },
    {
     "data": {
      "application/vnd.jupyter.widget-view+json": {
       "model_id": "a1cd6dd725184b34a47c0df2b3ca637f",
       "version_major": 2,
       "version_minor": 0
      },
      "text/plain": [
       "  0%|          | 0/1500 [00:00<?, ?it/s]"
      ]
     },
     "metadata": {},
     "output_type": "display_data"
    },
    {
     "name": "stdout",
     "output_type": "stream",
     "text": [
      "{'loss': 3.3188, 'grad_norm': 7.7704291343688965, 'learning_rate': 1.0000000000000002e-06, 'epoch': 0.02}\n",
      "{'loss': 3.2607, 'grad_norm': 7.600417137145996, 'learning_rate': 2.0000000000000003e-06, 'epoch': 0.04}\n",
      "{'loss': 3.2337, 'grad_norm': 10.304163932800293, 'learning_rate': 3e-06, 'epoch': 0.06}\n",
      "{'loss': 3.1359, 'grad_norm': 9.083587646484375, 'learning_rate': 4.000000000000001e-06, 'epoch': 0.08}\n",
      "{'loss': 3.1536, 'grad_norm': 9.523789405822754, 'learning_rate': 5e-06, 'epoch': 0.1}\n",
      "{'loss': 2.9642, 'grad_norm': 7.94228458404541, 'learning_rate': 6e-06, 'epoch': 0.12}\n",
      "{'loss': 2.9738, 'grad_norm': 6.880255222320557, 'learning_rate': 7.000000000000001e-06, 'epoch': 0.14}\n",
      "{'loss': 2.8645, 'grad_norm': 7.905690670013428, 'learning_rate': 8.000000000000001e-06, 'epoch': 0.16}\n",
      "{'loss': 2.7636, 'grad_norm': 8.091394424438477, 'learning_rate': 9e-06, 'epoch': 0.18}\n",
      "{'loss': 2.7098, 'grad_norm': 6.802448272705078, 'learning_rate': 1e-05, 'epoch': 0.2}\n",
      "{'loss': 2.5672, 'grad_norm': 5.709743022918701, 'learning_rate': 1.1000000000000001e-05, 'epoch': 0.22}\n",
      "{'loss': 2.5157, 'grad_norm': 5.470662593841553, 'learning_rate': 1.2e-05, 'epoch': 0.24}\n",
      "{'loss': 2.4205, 'grad_norm': 5.9374542236328125, 'learning_rate': 1.3000000000000001e-05, 'epoch': 0.26}\n",
      "{'loss': 2.262, 'grad_norm': 7.342458248138428, 'learning_rate': 1.4000000000000001e-05, 'epoch': 0.28}\n",
      "{'loss': 2.2351, 'grad_norm': 5.778835296630859, 'learning_rate': 1.5e-05, 'epoch': 0.3}\n",
      "{'loss': 2.1098, 'grad_norm': 7.2576093673706055, 'learning_rate': 1.6000000000000003e-05, 'epoch': 0.32}\n",
      "{'loss': 1.921, 'grad_norm': 5.6023759841918945, 'learning_rate': 1.7000000000000003e-05, 'epoch': 0.34}\n",
      "{'loss': 1.9289, 'grad_norm': 4.884275913238525, 'learning_rate': 1.8e-05, 'epoch': 0.36}\n",
      "{'loss': 1.7375, 'grad_norm': 5.162388801574707, 'learning_rate': 1.9e-05, 'epoch': 0.38}\n",
      "{'loss': 1.8878, 'grad_norm': 6.621550559997559, 'learning_rate': 2e-05, 'epoch': 0.4}\n",
      "{'loss': 1.7753, 'grad_norm': 7.711548805236816, 'learning_rate': 2.1e-05, 'epoch': 0.42}\n",
      "{'loss': 1.7814, 'grad_norm': 5.422663688659668, 'learning_rate': 2.2000000000000003e-05, 'epoch': 0.44}\n",
      "{'loss': 1.8112, 'grad_norm': 8.742451667785645, 'learning_rate': 2.3000000000000003e-05, 'epoch': 0.46}\n",
      "{'loss': 1.6432, 'grad_norm': 4.766776084899902, 'learning_rate': 2.4e-05, 'epoch': 0.48}\n",
      "{'loss': 1.5247, 'grad_norm': 11.840210914611816, 'learning_rate': 2.5e-05, 'epoch': 0.5}\n",
      "{'loss': 1.6454, 'grad_norm': 7.663695812225342, 'learning_rate': 2.6000000000000002e-05, 'epoch': 0.52}\n",
      "{'loss': 1.6046, 'grad_norm': 5.443286895751953, 'learning_rate': 2.7000000000000002e-05, 'epoch': 0.54}\n",
      "{'loss': 1.4879, 'grad_norm': 21.110971450805664, 'learning_rate': 2.8000000000000003e-05, 'epoch': 0.56}\n",
      "{'loss': 1.3664, 'grad_norm': 16.506160736083984, 'learning_rate': 2.9e-05, 'epoch': 0.58}\n",
      "{'loss': 1.4246, 'grad_norm': 8.253037452697754, 'learning_rate': 3e-05, 'epoch': 0.6}\n",
      "{'loss': 1.3548, 'grad_norm': 8.890390396118164, 'learning_rate': 3.1e-05, 'epoch': 0.62}\n",
      "{'loss': 1.3468, 'grad_norm': 11.157282829284668, 'learning_rate': 3.2000000000000005e-05, 'epoch': 0.64}\n",
      "{'loss': 1.4271, 'grad_norm': 7.201189041137695, 'learning_rate': 3.3e-05, 'epoch': 0.66}\n",
      "{'loss': 1.3039, 'grad_norm': 5.716482639312744, 'learning_rate': 3.4000000000000007e-05, 'epoch': 0.68}\n",
      "{'loss': 1.1146, 'grad_norm': 6.138310432434082, 'learning_rate': 3.5e-05, 'epoch': 0.7}\n",
      "{'loss': 1.2965, 'grad_norm': 7.752630233764648, 'learning_rate': 3.6e-05, 'epoch': 0.72}\n",
      "{'loss': 1.1852, 'grad_norm': 12.886402130126953, 'learning_rate': 3.7e-05, 'epoch': 0.74}\n",
      "{'loss': 1.1437, 'grad_norm': 16.450971603393555, 'learning_rate': 3.8e-05, 'epoch': 0.76}\n",
      "{'loss': 1.2067, 'grad_norm': 4.579174995422363, 'learning_rate': 3.9000000000000006e-05, 'epoch': 0.78}\n",
      "{'loss': 1.2299, 'grad_norm': 13.336432456970215, 'learning_rate': 4e-05, 'epoch': 0.8}\n",
      "{'loss': 1.1812, 'grad_norm': 10.368996620178223, 'learning_rate': 4.1e-05, 'epoch': 0.82}\n",
      "{'loss': 1.0305, 'grad_norm': 5.112517833709717, 'learning_rate': 4.2e-05, 'epoch': 0.84}\n",
      "{'loss': 1.0619, 'grad_norm': 18.99715232849121, 'learning_rate': 4.3e-05, 'epoch': 0.86}\n",
      "{'loss': 1.2513, 'grad_norm': 12.132780075073242, 'learning_rate': 4.4000000000000006e-05, 'epoch': 0.88}\n",
      "{'loss': 0.9783, 'grad_norm': 12.479204177856445, 'learning_rate': 4.5e-05, 'epoch': 0.9}\n",
      "{'loss': 1.1025, 'grad_norm': 13.077498435974121, 'learning_rate': 4.600000000000001e-05, 'epoch': 0.92}\n",
      "{'loss': 0.9305, 'grad_norm': 8.58978271484375, 'learning_rate': 4.7e-05, 'epoch': 0.94}\n",
      "{'loss': 0.965, 'grad_norm': 5.153787612915039, 'learning_rate': 4.8e-05, 'epoch': 0.96}\n",
      "{'loss': 1.194, 'grad_norm': 7.398461818695068, 'learning_rate': 4.9e-05, 'epoch': 0.98}\n",
      "{'loss': 0.9563, 'grad_norm': 7.716179847717285, 'learning_rate': 5e-05, 'epoch': 1.0}\n",
      "{'loss': 0.9477, 'grad_norm': 7.508733749389648, 'learning_rate': 4.9500000000000004e-05, 'epoch': 1.02}\n",
      "{'loss': 0.9527, 'grad_norm': 6.623236179351807, 'learning_rate': 4.9e-05, 'epoch': 1.04}\n",
      "{'loss': 0.9678, 'grad_norm': 23.792211532592773, 'learning_rate': 4.85e-05, 'epoch': 1.06}\n",
      "{'loss': 0.9126, 'grad_norm': 6.503730773925781, 'learning_rate': 4.8e-05, 'epoch': 1.08}\n",
      "{'loss': 0.9604, 'grad_norm': 5.287593364715576, 'learning_rate': 4.75e-05, 'epoch': 1.1}\n",
      "{'loss': 0.8303, 'grad_norm': 9.923808097839355, 'learning_rate': 4.7e-05, 'epoch': 1.12}\n",
      "{'loss': 1.0248, 'grad_norm': 3.991966485977173, 'learning_rate': 4.6500000000000005e-05, 'epoch': 1.14}\n",
      "{'loss': 0.9781, 'grad_norm': 6.888341426849365, 'learning_rate': 4.600000000000001e-05, 'epoch': 1.16}\n",
      "{'loss': 0.9881, 'grad_norm': 13.695751190185547, 'learning_rate': 4.55e-05, 'epoch': 1.18}\n",
      "{'loss': 0.7769, 'grad_norm': 6.923942565917969, 'learning_rate': 4.5e-05, 'epoch': 1.2}\n",
      "{'loss': 0.9116, 'grad_norm': 22.181669235229492, 'learning_rate': 4.4500000000000004e-05, 'epoch': 1.22}\n",
      "{'loss': 1.0241, 'grad_norm': 10.955450057983398, 'learning_rate': 4.4000000000000006e-05, 'epoch': 1.24}\n",
      "{'loss': 0.8651, 'grad_norm': 8.61850357055664, 'learning_rate': 4.35e-05, 'epoch': 1.26}\n",
      "{'loss': 0.8055, 'grad_norm': 15.041601181030273, 'learning_rate': 4.3e-05, 'epoch': 1.28}\n",
      "{'loss': 0.8707, 'grad_norm': 6.391030788421631, 'learning_rate': 4.25e-05, 'epoch': 1.3}\n",
      "{'loss': 0.8178, 'grad_norm': 32.5786247253418, 'learning_rate': 4.2e-05, 'epoch': 1.32}\n",
      "{'loss': 0.8702, 'grad_norm': 13.535284042358398, 'learning_rate': 4.15e-05, 'epoch': 1.34}\n",
      "{'loss': 0.8361, 'grad_norm': 9.639472961425781, 'learning_rate': 4.1e-05, 'epoch': 1.36}\n",
      "{'loss': 0.7681, 'grad_norm': 5.82368803024292, 'learning_rate': 4.05e-05, 'epoch': 1.38}\n",
      "{'loss': 0.7549, 'grad_norm': 8.27997875213623, 'learning_rate': 4e-05, 'epoch': 1.4}\n",
      "{'loss': 0.7977, 'grad_norm': 9.795598030090332, 'learning_rate': 3.9500000000000005e-05, 'epoch': 1.42}\n",
      "{'loss': 0.7996, 'grad_norm': 9.863591194152832, 'learning_rate': 3.9000000000000006e-05, 'epoch': 1.44}\n",
      "{'loss': 0.8633, 'grad_norm': 9.81593132019043, 'learning_rate': 3.85e-05, 'epoch': 1.46}\n",
      "{'loss': 0.9733, 'grad_norm': 10.25985336303711, 'learning_rate': 3.8e-05, 'epoch': 1.48}\n",
      "{'loss': 1.0122, 'grad_norm': 8.445351600646973, 'learning_rate': 3.7500000000000003e-05, 'epoch': 1.5}\n",
      "{'loss': 0.7069, 'grad_norm': 4.920198917388916, 'learning_rate': 3.7e-05, 'epoch': 1.52}\n",
      "{'loss': 0.9176, 'grad_norm': 8.496517181396484, 'learning_rate': 3.65e-05, 'epoch': 1.54}\n",
      "{'loss': 0.762, 'grad_norm': 15.016067504882812, 'learning_rate': 3.6e-05, 'epoch': 1.56}\n",
      "{'loss': 0.7421, 'grad_norm': 10.278564453125, 'learning_rate': 3.55e-05, 'epoch': 1.58}\n",
      "{'loss': 0.7786, 'grad_norm': 8.910989761352539, 'learning_rate': 3.5e-05, 'epoch': 1.6}\n",
      "{'loss': 0.7595, 'grad_norm': 5.803775310516357, 'learning_rate': 3.45e-05, 'epoch': 1.62}\n",
      "{'loss': 0.7879, 'grad_norm': 3.675840377807617, 'learning_rate': 3.4000000000000007e-05, 'epoch': 1.64}\n",
      "{'loss': 0.8006, 'grad_norm': 6.20656681060791, 'learning_rate': 3.35e-05, 'epoch': 1.66}\n",
      "{'loss': 0.8114, 'grad_norm': 7.325460910797119, 'learning_rate': 3.3e-05, 'epoch': 1.68}\n",
      "{'loss': 0.7955, 'grad_norm': 8.317099571228027, 'learning_rate': 3.2500000000000004e-05, 'epoch': 1.7}\n",
      "{'loss': 0.7317, 'grad_norm': 7.065551280975342, 'learning_rate': 3.2000000000000005e-05, 'epoch': 1.72}\n",
      "{'loss': 0.6302, 'grad_norm': 1.6123435497283936, 'learning_rate': 3.15e-05, 'epoch': 1.74}\n",
      "{'loss': 0.8683, 'grad_norm': 12.726085662841797, 'learning_rate': 3.1e-05, 'epoch': 1.76}\n",
      "{'loss': 0.9346, 'grad_norm': 6.288970470428467, 'learning_rate': 3.05e-05, 'epoch': 1.78}\n",
      "{'loss': 0.7088, 'grad_norm': 8.468576431274414, 'learning_rate': 3e-05, 'epoch': 1.8}\n",
      "{'loss': 0.8385, 'grad_norm': 7.098720550537109, 'learning_rate': 2.95e-05, 'epoch': 1.82}\n",
      "{'loss': 0.7951, 'grad_norm': 2.9256420135498047, 'learning_rate': 2.9e-05, 'epoch': 1.84}\n",
      "{'loss': 0.6655, 'grad_norm': 5.677859783172607, 'learning_rate': 2.8499999999999998e-05, 'epoch': 1.86}\n",
      "{'loss': 0.6651, 'grad_norm': 9.809797286987305, 'learning_rate': 2.8000000000000003e-05, 'epoch': 1.88}\n",
      "{'loss': 0.9778, 'grad_norm': 5.645205497741699, 'learning_rate': 2.7500000000000004e-05, 'epoch': 1.9}\n",
      "{'loss': 0.7162, 'grad_norm': 11.929970741271973, 'learning_rate': 2.7000000000000002e-05, 'epoch': 1.92}\n",
      "{'loss': 0.8176, 'grad_norm': 4.388096809387207, 'learning_rate': 2.6500000000000004e-05, 'epoch': 1.94}\n",
      "{'loss': 0.9363, 'grad_norm': 4.801810264587402, 'learning_rate': 2.6000000000000002e-05, 'epoch': 1.96}\n",
      "{'loss': 0.6046, 'grad_norm': 7.007225513458252, 'learning_rate': 2.5500000000000003e-05, 'epoch': 1.98}\n",
      "{'loss': 0.6945, 'grad_norm': 4.443826198577881, 'learning_rate': 2.5e-05, 'epoch': 2.0}\n",
      "{'loss': 0.5978, 'grad_norm': 2.8403446674346924, 'learning_rate': 2.45e-05, 'epoch': 2.02}\n",
      "{'loss': 0.7721, 'grad_norm': 2.378462791442871, 'learning_rate': 2.4e-05, 'epoch': 2.04}\n",
      "{'loss': 0.4848, 'grad_norm': 4.0555644035339355, 'learning_rate': 2.35e-05, 'epoch': 2.06}\n",
      "{'loss': 0.6531, 'grad_norm': 7.874627590179443, 'learning_rate': 2.3000000000000003e-05, 'epoch': 2.08}\n",
      "{'loss': 0.6924, 'grad_norm': 2.7179362773895264, 'learning_rate': 2.25e-05, 'epoch': 2.1}\n",
      "{'loss': 0.551, 'grad_norm': 10.322589874267578, 'learning_rate': 2.2000000000000003e-05, 'epoch': 2.12}\n",
      "{'loss': 0.5361, 'grad_norm': 1.950013279914856, 'learning_rate': 2.15e-05, 'epoch': 2.14}\n",
      "{'loss': 0.7287, 'grad_norm': 12.015327453613281, 'learning_rate': 2.1e-05, 'epoch': 2.16}\n",
      "{'loss': 0.5891, 'grad_norm': 3.103715419769287, 'learning_rate': 2.05e-05, 'epoch': 2.18}\n",
      "{'loss': 0.6107, 'grad_norm': 8.534605979919434, 'learning_rate': 2e-05, 'epoch': 2.2}\n",
      "{'loss': 0.7052, 'grad_norm': 9.65241813659668, 'learning_rate': 1.9500000000000003e-05, 'epoch': 2.22}\n",
      "{'loss': 0.6002, 'grad_norm': 5.075829982757568, 'learning_rate': 1.9e-05, 'epoch': 2.24}\n",
      "{'loss': 0.616, 'grad_norm': 2.2560036182403564, 'learning_rate': 1.85e-05, 'epoch': 2.26}\n",
      "{'loss': 0.6072, 'grad_norm': 6.277639865875244, 'learning_rate': 1.8e-05, 'epoch': 2.28}\n",
      "{'loss': 0.4136, 'grad_norm': 4.910887241363525, 'learning_rate': 1.75e-05, 'epoch': 2.3}\n",
      "{'loss': 0.6026, 'grad_norm': 6.4271416664123535, 'learning_rate': 1.7000000000000003e-05, 'epoch': 2.32}\n",
      "{'loss': 0.7702, 'grad_norm': 5.381511688232422, 'learning_rate': 1.65e-05, 'epoch': 2.34}\n",
      "{'loss': 0.4478, 'grad_norm': 0.6338616013526917, 'learning_rate': 1.6000000000000003e-05, 'epoch': 2.36}\n",
      "{'loss': 0.716, 'grad_norm': 6.213767051696777, 'learning_rate': 1.55e-05, 'epoch': 2.38}\n",
      "{'loss': 0.6557, 'grad_norm': 5.317723274230957, 'learning_rate': 1.5e-05, 'epoch': 2.4}\n",
      "{'loss': 0.5478, 'grad_norm': 3.711028814315796, 'learning_rate': 1.45e-05, 'epoch': 2.42}\n",
      "{'loss': 0.4975, 'grad_norm': 8.24135684967041, 'learning_rate': 1.4000000000000001e-05, 'epoch': 2.44}\n",
      "{'loss': 0.5795, 'grad_norm': 12.712265014648438, 'learning_rate': 1.3500000000000001e-05, 'epoch': 2.46}\n",
      "{'loss': 0.6398, 'grad_norm': 2.23783278465271, 'learning_rate': 1.3000000000000001e-05, 'epoch': 2.48}\n",
      "{'loss': 0.6174, 'grad_norm': 5.196235179901123, 'learning_rate': 1.25e-05, 'epoch': 2.5}\n",
      "{'loss': 0.5201, 'grad_norm': 4.870594024658203, 'learning_rate': 1.2e-05, 'epoch': 2.52}\n",
      "{'loss': 0.4961, 'grad_norm': 5.499365329742432, 'learning_rate': 1.1500000000000002e-05, 'epoch': 2.54}\n",
      "{'loss': 0.465, 'grad_norm': 5.904019832611084, 'learning_rate': 1.1000000000000001e-05, 'epoch': 2.56}\n",
      "{'loss': 0.4972, 'grad_norm': 7.1641106605529785, 'learning_rate': 1.05e-05, 'epoch': 2.58}\n",
      "{'loss': 0.4273, 'grad_norm': 9.351157188415527, 'learning_rate': 1e-05, 'epoch': 2.6}\n",
      "{'loss': 0.5906, 'grad_norm': 5.133876323699951, 'learning_rate': 9.5e-06, 'epoch': 2.62}\n",
      "{'loss': 0.5066, 'grad_norm': 5.534857273101807, 'learning_rate': 9e-06, 'epoch': 2.64}\n",
      "{'loss': 0.5706, 'grad_norm': 2.675736665725708, 'learning_rate': 8.500000000000002e-06, 'epoch': 2.66}\n",
      "{'loss': 0.4913, 'grad_norm': 4.735233306884766, 'learning_rate': 8.000000000000001e-06, 'epoch': 2.68}\n",
      "{'loss': 0.3988, 'grad_norm': 6.436838626861572, 'learning_rate': 7.5e-06, 'epoch': 2.7}\n",
      "{'loss': 0.4615, 'grad_norm': 3.56884765625, 'learning_rate': 7.000000000000001e-06, 'epoch': 2.72}\n",
      "{'loss': 0.5482, 'grad_norm': 5.4858012199401855, 'learning_rate': 6.5000000000000004e-06, 'epoch': 2.74}\n",
      "{'loss': 0.4926, 'grad_norm': 5.093696594238281, 'learning_rate': 6e-06, 'epoch': 2.76}\n",
      "{'loss': 0.6534, 'grad_norm': 24.69830322265625, 'learning_rate': 5.500000000000001e-06, 'epoch': 2.78}\n",
      "{'loss': 0.4973, 'grad_norm': 2.98542857170105, 'learning_rate': 5e-06, 'epoch': 2.8}\n",
      "{'loss': 0.6544, 'grad_norm': 9.553938865661621, 'learning_rate': 4.5e-06, 'epoch': 2.82}\n",
      "{'loss': 0.5858, 'grad_norm': 2.5334110260009766, 'learning_rate': 4.000000000000001e-06, 'epoch': 2.84}\n",
      "{'loss': 0.8338, 'grad_norm': 5.867718696594238, 'learning_rate': 3.5000000000000004e-06, 'epoch': 2.86}\n",
      "{'loss': 0.5853, 'grad_norm': 8.5250825881958, 'learning_rate': 3e-06, 'epoch': 2.88}\n",
      "{'loss': 0.5469, 'grad_norm': 6.5025787353515625, 'learning_rate': 2.5e-06, 'epoch': 2.9}\n",
      "{'loss': 0.5358, 'grad_norm': 4.989327430725098, 'learning_rate': 2.0000000000000003e-06, 'epoch': 2.92}\n",
      "{'loss': 0.5206, 'grad_norm': 3.286118984222412, 'learning_rate': 1.5e-06, 'epoch': 2.94}\n",
      "{'loss': 0.641, 'grad_norm': 7.330829620361328, 'learning_rate': 1.0000000000000002e-06, 'epoch': 2.96}\n",
      "{'loss': 0.6024, 'grad_norm': 7.17641544342041, 'learning_rate': 5.000000000000001e-07, 'epoch': 2.98}\n",
      "{'loss': 0.6193, 'grad_norm': 6.871434688568115, 'learning_rate': 0.0, 'epoch': 3.0}\n",
      "{'train_runtime': 814.3404, 'train_samples_per_second': 29.472, 'train_steps_per_second': 1.842, 'train_loss': 1.0801355202992757, 'epoch': 3.0}\n"
     ]
    },
    {
     "data": {
      "application/vnd.jupyter.widget-view+json": {
       "model_id": "83279e2f9f624ae3ac0b1cbcc8affa7e",
       "version_major": 2,
       "version_minor": 0
      },
      "text/plain": [
       "  0%|          | 0/32 [00:00<?, ?it/s]"
      ]
     },
     "metadata": {},
     "output_type": "display_data"
    },
    {
     "name": "stdout",
     "output_type": "stream",
     "text": [
      "BERT Accuracy: 0.7715\n"
     ]
    },
    {
     "data": {
      "application/vnd.jupyter.widget-view+json": {
       "model_id": "da95e408707041f3bdd70751217f61ea",
       "version_major": 2,
       "version_minor": 0
      },
      "text/plain": [
       "  0%|          | 0/235 [00:00<?, ?it/s]"
      ]
     },
     "metadata": {},
     "output_type": "display_data"
    }
   ],
   "source": [
    "# Install the required packages\n",
    "%pip install transformers[torch] accelerate\n",
    "\n",
    "# Load BERT tokenizer and model\n",
    "tokenizer = BertTokenizer.from_pretrained('bert-base-uncased')\n",
    "model = BertForSequenceClassification.from_pretrained('bert-base-uncased', num_labels=len(set(train_label)))\n",
    "\n",
    "# Tokenize the data\n",
    "train_encodings = tokenizer(X_train.tolist(), truncation=True, padding=True, max_length=128)\n",
    "test_encodings = tokenizer(X_test.tolist(), truncation=True, padding=True, max_length=128)\n",
    "\n",
    "class EmotionDataset(torch.utils.data.Dataset):\n",
    "    def __init__(self, encodings, labels):\n",
    "        self.encodings = encodings\n",
    "        self.labels = labels\n",
    "\n",
    "    def __getitem__(self, idx):\n",
    "        item = {key: torch.tensor(val[idx]) for key, val in self.encodings.items()}\n",
    "        item['labels'] = torch.tensor(self.labels[idx])\n",
    "        return item\n",
    "\n",
    "    def __len__(self):\n",
    "        return len(self.labels)\n",
    "\n",
    "train_dataset = EmotionDataset(train_encodings, y_train.tolist())\n",
    "test_dataset = EmotionDataset(test_encodings, y_test.tolist())\n",
    "\n",
    "# Define training arguments\n",
    "training_args = TrainingArguments(\n",
    "    output_dir='./results',\n",
    "    num_train_epochs=3,\n",
    "    per_device_train_batch_size=16,\n",
    "    per_device_eval_batch_size=64,\n",
    "    warmup_steps=500,\n",
    "    weight_decay=0.01,\n",
    "    logging_dir='./logs',\n",
    "    logging_steps=10,\n",
    ")\n",
    "\n",
    "# Initialize Trainer\n",
    "trainer = Trainer(\n",
    "    model=model,\n",
    "    args=training_args,\n",
    "    train_dataset=train_dataset,\n",
    "    eval_dataset=test_dataset,\n",
    ")\n",
    "\n",
    "# Train the model\n",
    "trainer.train()\n",
    "\n",
    "# Evaluate the model\n",
    "predictions = trainer.predict(test_dataset)\n",
    "y_pred_bert = predictions.predictions.argmax(-1)\n",
    "accuracy_bert = accuracy_score(y_test, y_pred_bert)\n",
    "print(f'BERT Accuracy: {accuracy_bert}')\n",
    "\n",
    "# Tokenize the test data\n",
    "test_encodings = tokenizer(test_text.tolist(), truncation=True, padding=True, max_length=128)\n",
    "test_dataset = EmotionDataset(test_encodings, [0]*len(test_text))  # Dummy labels\n",
    "\n",
    "# Generate predictions for the test dataset using BERT model\n",
    "predictions = trainer.predict(test_dataset)\n",
    "bert_predictions = predictions.predictions.argmax(-1)\n",
    "\n",
    "# Save BERT predictions to CSV\n",
    "bert_submission = pd.DataFrame({'id': range(len(bert_predictions)), 'label': bert_predictions})\n",
    "bert_submission.to_csv('../submission/bert_submission.csv', index=False)"
   ]
  },
  {
   "cell_type": "markdown",
   "metadata": {},
   "source": [
    "<h3>1.2 Use At Least Two Training Algorithms from class:</h3><p>\n",
    "You need to use at least two training algorithms from class. You can use your code from previous projects or any packages you imported in part 0.1."
   ]
  },
  {
   "cell_type": "code",
   "execution_count": 7,
   "metadata": {},
   "outputs": [],
   "source": [
    "# Make sure you comment your code clearly and you may refer to these comments in the part 1.4\n",
    "# TODO\n",
    "from sklearn.feature_extraction.text import TfidfVectorizer\n",
    "from sklearn.svm import SVC"
   ]
  },
  {
   "cell_type": "markdown",
   "metadata": {},
   "source": [
    "<h3>1.3 Training, Validation and Model Selection:</h3><p>\n",
    "You need to split your data to a training set and validation set or performing a cross-validation for model selection."
   ]
  },
  {
   "cell_type": "code",
   "execution_count": 8,
   "metadata": {},
   "outputs": [
    {
     "name": "stdout",
     "output_type": "stream",
     "text": [
      "Accuracy: 0.696\n"
     ]
    }
   ],
   "source": [
    "# Make sure you comment your code clearly and you may refer to these comments in the part 1.4\n",
    "# TODO\n",
    "from sklearn.model_selection import train_test_split\n",
    "\n",
    "# Split the dataset into training and testing sets\n",
    "X_train, X_test, y_train, y_test = train_test_split(train_text, train_label, test_size=0.2, random_state=42)\n",
    "\n",
    "# Preprocess the data (vectorize text data)\n",
    "vectorizer = TfidfVectorizer()\n",
    "X_train_tfidf = vectorizer.fit_transform(X_train)\n",
    "X_test_tfidf = vectorizer.transform(X_test)\n",
    "\n",
    "# Train an SVM model\n",
    "svm_model = SVC(kernel='linear')\n",
    "svm_model.fit(X_train_tfidf, y_train)\n",
    "\n",
    "y_pred = svm_model.predict(X_test_tfidf)\n",
    "accuracy = accuracy_score(y_test, y_pred)\n",
    "\n",
    "print(f'Accuracy: {accuracy}')"
   ]
  },
  {
   "cell_type": "markdown",
   "metadata": {},
   "source": [
    "<h3>1.4 Explanation in Words:</h3><p>\n",
    "    You need to answer the following questions in the markdown cell after this cell:"
   ]
  },
  {
   "cell_type": "markdown",
   "metadata": {},
   "source": [
    "1.4.1 How did you formulate the learning problem?\n",
    "\n",
    "1.4.2 Which two learning methods from class did you choose and why did you made the choices?\n",
    "\n",
    "1.4.3 How did you do the model selection?\n",
    "\n",
    "1.4.4 Does the test performance reach the first baseline \"Tiny Piney\"? (Please include a screenshot of Kaggle Submission)"
   ]
  },
  {
   "cell_type": "markdown",
   "metadata": {},
   "source": [
    "<h2>Part 2: Be creative!</h2><p>"
   ]
  },
  {
   "cell_type": "markdown",
   "metadata": {},
   "source": [
    "<h3>2.1 Open-ended Code:</h3><p>\n",
    "You may follow the steps in part 1 again but making innovative changes like using new training algorithms, etc. Make sure you explain everything clearly in part 2.2. Note that beating \"Zero Hero\" is only a small portion of this part. Any creative ideas will receive most points as long as they are reasonable and clearly explained."
   ]
  },
  {
   "cell_type": "code",
   "execution_count": 9,
   "metadata": {},
   "outputs": [],
   "source": [
    "# Make sure you comment your code clearly and you may refer to these comments in the part 2.2\n",
    "# TODO"
   ]
  },
  {
   "cell_type": "markdown",
   "metadata": {},
   "source": [
    "<h3>2.2 Explanation in Words:</h3><p>\n",
    "You need to answer the following questions in a markdown cell after this cell:"
   ]
  },
  {
   "cell_type": "markdown",
   "metadata": {},
   "source": [
    "2.2.1 How much did you manage to improve performance on the test set? Did you beat \"Zero Hero\" in Kaggle? (Please include a screenshot of Kaggle Submission)\n",
    "\n",
    "2.2.2 Please explain in detail how you achieved this and what you did specifically and why you tried this."
   ]
  },
  {
   "cell_type": "markdown",
   "metadata": {},
   "source": [
    "<h2>Part 3: Kaggle Submission</h2><p>\n",
    "You need to generate a prediction CSV using the following cell from your trained model and submit the direct output of your code to Kaggle. The results should be presented in two columns in csv format: the first column is the data id (0-14999) and the second column includes the predictions for the test set. The first column must be named id and the second column must be named label (otherwise your submission will fail). A sample predication file can be downloaded from Kaggle for each problem. \n",
    "We provide how to save a csv file if you are running Notebook on Kaggle."
   ]
  },
  {
   "cell_type": "code",
   "execution_count": 11,
   "metadata": {},
   "outputs": [],
   "source": [
    "# id = range(15000)\n",
    "# prediction = range(15000)\n",
    "# submission = pd.DataFrame({'id': id, 'label': prediction})\n",
    "# submission.to_csv('/kaggle/working/submission.csv', index=False)"
   ]
  },
  {
   "cell_type": "code",
   "execution_count": 17,
   "metadata": {},
   "outputs": [
    {
     "name": "stdout",
     "output_type": "stream",
     "text": [
      "[27 16 21 ... 12  1  1]\n"
     ]
    }
   ],
   "source": [
    "# TODO\n",
    "id = range(15000)\n",
    "prediction = svm_model.predict(vectorizer.transform(test_text))\n",
    "print(prediction)\n",
    "submission = pd.DataFrame({'id': id, 'label': prediction})\n",
    "submission.to_csv('../submission/predictions.csv', index=False)\n",
    "# You may use pandas to generate a dataframe with country, date and your predictions first \n",
    "# and then use to_csv to generate a CSV file."
   ]
  },
  {
   "cell_type": "code",
   "execution_count": 16,
   "metadata": {},
   "outputs": [
    {
     "name": "stdout",
     "output_type": "stream",
     "text": [
      "(15000,)\n",
      "(15000, 2)\n"
     ]
    }
   ],
   "source": [
    "print(prediction.shape)\n",
    "print(submission)"
   ]
  },
  {
   "cell_type": "markdown",
   "metadata": {},
   "source": [
    "<h2>Part 4: Resources and Literature Used</h2><p>"
   ]
  },
  {
   "cell_type": "markdown",
   "metadata": {},
   "source": [
    "Please cite the papers and open resources you used."
   ]
  },
  {
   "cell_type": "markdown",
   "metadata": {},
   "source": []
  }
 ],
 "metadata": {
  "kernelspec": {
   "display_name": "ml_final_project_env",
   "language": "python",
   "name": "python3"
  },
  "language_info": {
   "codemirror_mode": {
    "name": "ipython",
    "version": 3
   },
   "file_extension": ".py",
   "mimetype": "text/x-python",
   "name": "python",
   "nbconvert_exporter": "python",
   "pygments_lexer": "ipython3",
   "version": "3.8.20"
  }
 },
 "nbformat": 4,
 "nbformat_minor": 4
}
