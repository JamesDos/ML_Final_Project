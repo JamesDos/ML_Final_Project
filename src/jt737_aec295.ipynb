{
 "cells": [
  {
   "cell_type": "markdown",
   "metadata": {},
   "source": [
    "<h2>CS 3780/5780 Creative Project: </h2>\n",
    "<h3>Emotion Classification of Natural Language</h3>\n",
    "\n",
    "Names and NetIDs for your group members: James Tu (jt737), Andrew Cheung (aec295)"
   ]
  },
  {
   "cell_type": "markdown",
   "metadata": {},
   "source": [
    "<h3>Introduction:</h3>\n",
    "\n",
    "<p> The creative project is about conducting a real-world machine learning project on your own, with everything that is involved. Unlike in the programming projects 1-5, where we gave you all the scaffolding and you just filled in the blanks, you now start from scratch. The past programming projects provide templates for how to do this (and you can reuse part of your code if you wish), and the lectures provide some of the methods you can use. So, this creative project brings realism to how you will use machine learning in the real world.  </p>\n",
    "\n",
    "The task you will work on is classifying texts to human emotions. Through words, humans express feelings, articulate thoughts, and communicate our deepest needs and desires. Language helps us interpret the nuances of joy, sadness, anger, and love, allowing us to connect with others on a deeper level. Are you able to train an ML model that recognizes the human emotions expressed in a piece of text? <b>Please read the project description PDF file carefully and follow the instructions there. Also make sure you write your code and answers to all the questions in this Jupyter Notebook </b> </p>\n",
    "<p>\n"
   ]
  },
  {
   "cell_type": "markdown",
   "metadata": {},
   "source": [
    "<h2>Part 0: Basics</h2><p>"
   ]
  },
  {
   "cell_type": "markdown",
   "metadata": {},
   "source": [
    "<h3>0.1 Import:</h3><p>\n",
    "Please import necessary packages to use. Note that learning and using packages are recommended but not required for this project. Some official tutorial for suggested packacges includes:\n",
    "    \n",
    "https://scikit-learn.org/stable/tutorial/basic/tutorial.html\n",
    "    \n",
    "https://pytorch.org/tutorials/\n",
    "    \n",
    "https://pandas.pydata.org/pandas-docs/stable/user_guide/10min.html\n",
    "<p>"
   ]
  },
  {
   "cell_type": "code",
   "execution_count": null,
   "metadata": {},
   "outputs": [],
   "source": [
    "import os\n",
    "import pandas as pd\n",
    "import numpy as np\n",
    "import torch\n",
    "# TODO"
   ]
  },
  {
   "cell_type": "markdown",
   "metadata": {},
   "source": [
    "<h3>0.2 Accuracy and Mean Squared Error:</h3><p>\n",
    "To measure your performance in the Kaggle Competition, we are using accuracy. As a recap, accuracy is the percent of labels you predict correctly. To measure this, you can use library functions from sklearn. A simple example is shown below. \n",
    "<p>"
   ]
  },
  {
   "cell_type": "code",
   "execution_count": null,
   "metadata": {},
   "outputs": [],
   "source": [
    "from sklearn.metrics import accuracy_score\n",
    "y_pred = [3, 2, 1, 0, 1, 2, 3]\n",
    "y_true = [0, 1, 2, 3, 1, 2, 3]\n",
    "accuracy_score(y_true, y_pred)"
   ]
  },
  {
   "cell_type": "markdown",
   "metadata": {},
   "source": [
    "<h2>Part 1: Basic</h2><p>\n",
    "Note that your code should be commented well and in part 1.4 you can refer to your comments."
   ]
  },
  {
   "cell_type": "markdown",
   "metadata": {},
   "source": [
    "<h3>1.1 Load and preprocess the dataset:</h3><p>\n",
    "We provide how to load the data on Kaggle's Notebook.\n",
    "<p>"
   ]
  },
  {
   "cell_type": "code",
   "execution_count": null,
   "metadata": {},
   "outputs": [],
   "source": [
    "# Load the training data\n",
    "train = pd.read_csv(\"../data/train.csv\")\n",
    "# Split into text and label\n",
    "train_text = train[\"text\"]\n",
    "train_label = train[\"label\"]\n",
    "\n",
    "# Load the testing data\n",
    "test = pd.read_csv(\"../data/test.csv\")\n",
    "# Split into text and id\n",
    "test_id = test[\"id\"]\n",
    "test_text = test[\"text\"]\n"
   ]
  },
  {
   "cell_type": "code",
   "execution_count": null,
   "metadata": {},
   "outputs": [],
   "source": [
    "train.head() # Show the first few rows of training data"
   ]
  },
  {
   "cell_type": "code",
   "execution_count": null,
   "metadata": {},
   "outputs": [],
   "source": [
    "test.head() # Show the first few rows of testing data"
   ]
  },
  {
   "cell_type": "markdown",
   "metadata": {},
   "source": [
    "<h3>1.2 Use At Least Two Training Algorithms from class:</h3><p>\n",
    "You need to use at least two training algorithms from class. You can use your code from previous projects or any packages you imported in part 0.1."
   ]
  },
  {
   "cell_type": "markdown",
   "metadata": {},
   "source": [
    "### SVM Model"
   ]
  },
  {
   "cell_type": "code",
   "execution_count": null,
   "metadata": {},
   "outputs": [],
   "source": [
    "from sklearn.svm import SVC"
   ]
  },
  {
   "cell_type": "markdown",
   "metadata": {},
   "source": [
    "### Naive Bayes Model"
   ]
  },
  {
   "cell_type": "code",
   "execution_count": null,
   "metadata": {},
   "outputs": [],
   "source": [
    "from sklearn.naive_bayes import MultinomialNB"
   ]
  },
  {
   "cell_type": "markdown",
   "metadata": {},
   "source": [
    "<h3>1.3 Training, Validation and Model Selection:</h3><p>\n",
    "You need to split your data to a training set and validation set or performing a cross-validation for model selection."
   ]
  },
  {
   "cell_type": "markdown",
   "metadata": {},
   "source": [
    "### First we split our data into a training and validation set"
   ]
  },
  {
   "cell_type": "code",
   "execution_count": null,
   "metadata": {},
   "outputs": [],
   "source": [
    "from sklearn.model_selection import train_test_split\n",
    "\n",
    "# Split the dataset into training and testing sets\n",
    "X_train, X_test, y_train, y_val = train_test_split(train_text, train_label, test_size=0.2, random_state=42)"
   ]
  },
  {
   "cell_type": "markdown",
   "metadata": {},
   "source": [
    "### Next we vectorize the training text"
   ]
  },
  {
   "cell_type": "code",
   "execution_count": null,
   "metadata": {},
   "outputs": [],
   "source": [
    "from sklearn.feature_extraction.text import TfidfVectorizer\n",
    "from sklearn.feature_extraction.text import CountVectorizer\n",
    "\n",
    "vectorizer_tfidf = TfidfVectorizer(stop_words='english') # Remove stop words\n",
    "vectorizer_bow = CountVectorizer(stop_words='english') # Remove stop words\n",
    "\n",
    "# Use TF-IDF vectorizer for sentence embeddings\n",
    "X_train_tfidf = vectorizer_tfidf.fit_transform(X_train)\n",
    "X_test_tfidf = vectorizer_tfidf.transform(X_test)\n",
    "\n",
    "# Use bag of words vectorizer for sentence embeddings\n",
    "X_train_bow = vectorizer_bow.fit_transform(X_train)\n",
    "X_test_bow = vectorizer_bow.transform(X_test)"
   ]
  },
  {
   "cell_type": "markdown",
   "metadata": {},
   "source": [
    "1.3.1 Training the SVM model"
   ]
  },
  {
   "cell_type": "code",
   "execution_count": null,
   "metadata": {},
   "outputs": [],
   "source": [
    "from sklearn.metrics import accuracy_score\n",
    "from sklearn.model_selection import GridSearchCV\n",
    "\n",
    "# Use grid search to find the best hyperparameters for SVM model\n",
    "params = {\n",
    "  'C': [0.001, 0.01, 0.1, 1, 10],\n",
    "  'kernel': ['linear', 'poly', 'rbf', 'sigmoid'],\n",
    "}\n",
    "\n",
    "grid_search = GridSearchCV(SVC(), params, scoring='accuracy', verbose=1)\n",
    "grid_search.fit(X_train_tfidf, y_train)\n",
    "\n",
    "# Print the best parameters found by GridSearchCV\n",
    "best_params = grid_search.best_params_\n",
    "print(f\"Best parameters: {grid_search.best_params_}\")\n",
    "\n",
    "best_C, best_kernal = best_params['C'], best_params['kernel']\n",
    "\n",
    "# Train SVM model\n",
    "svm_model = SVC(kernel=best_kernal, C=best_C)\n",
    "svm_model.fit(X_train_tfidf, y_train) # Use TF-IDF embeddings for SVM\n",
    "\n",
    "# Predict and calculate accuracy for SVM model\n",
    "y_pred = svm_model.predict(X_test_tfidf)\n",
    "accuracy_svm = accuracy_score(y_val, y_pred)\n",
    "\n",
    "print(f'SVM Accuracy: {accuracy_svm}')"
   ]
  },
  {
   "cell_type": "markdown",
   "metadata": {},
   "source": [
    "1.3.2 Training the Naive Bayes Model"
   ]
  },
  {
   "cell_type": "code",
   "execution_count": null,
   "metadata": {},
   "outputs": [],
   "source": [
    "from sklearn.model_selection import GridSearchCV\n",
    "\n",
    "# Use grid search to find the best hyperparameters (alpha for Laplace smoothing) for Naive Bayes\n",
    "params = {'alpha': [0.1 * x for x in range(1, 11)]} # Search alpha values 0.1 to 1\n",
    "grid_search = GridSearchCV(MultinomialNB(), params, scoring='accuracy')\n",
    "grid_search.fit(X_train_bow, y_train)\n",
    "\n",
    "best_alpha = grid_search.best_params_['alpha'] # Get the best alpha value\n",
    "print(f\"Best alpha: {best_alpha}\")\n",
    "\n",
    "nb_model = MultinomialNB(alpha=best_alpha) # Use the best alpha value for Naive Bayes Model\n",
    "nb_model.fit(X_train_bow, y_train) # Use bag of words embeddings for Naive Bayes\n",
    "\n",
    "# Predict and calculate accuracy for Naive Bayes model\n",
    "y_pred_nb = nb_model.predict(X_test_bow)\n",
    "accuracy_nb = accuracy_score(y_val, y_pred_nb) \n",
    "print(f'Naive Bayes Accuracy: {accuracy_nb}')\n"
   ]
  },
  {
   "cell_type": "markdown",
   "metadata": {},
   "source": [
    "<h3>1.4 Explanation in Words:</h3><p>\n",
    "    You need to answer the following questions in the markdown cell after this cell:"
   ]
  },
  {
   "cell_type": "markdown",
   "metadata": {},
   "source": [
    "1.4.1 How did you formulate the learning problem?\n",
    "\n",
    "We formulated the learning problem as a text classification problem where we are \n",
    "given an input text and our goal is to predict the emotion of the text. In particular, \n",
    "we are given an input text as a string and our goal is to classify the text into 1 of\n",
    "28 different classes (labeled 0 to 27) representing the semantic emotion of the text. Hence, we formulated\n",
    "this learning problem as a multi-class classification problem.\n",
    "\n",
    "In order to make the text input useful for machine learning, we need to transform the input\n",
    "text into vector representations that can be used by our training algorithms. There are several ways\n",
    "we can vectorize our text, but we decided to use the TF-IDF and Bag of Words vectorization\n",
    "methods, which we will explain why later on when explain the our model selection. \n",
    "The Bag of Words embeddings represent text as vectors of word frequencies, but doesn't consider\n",
    "the order of words. On the other hand, TF-IDF embeddings weight the frequency of words\n",
    "against how often they appear, which highlights more unique words and reduces the weight\n",
    "of commonly used words. To perform these sentence embeddings, we used the sci-kit learn's\n",
    "TfidfVectorizer and CounterVectorizer, which handles the tokenization of the input text and vector output.\n",
    "When tokenizing the text, for both vectorizers, we decided to exclude stop words like \"and\" and \"the\" as they\n",
    "do not contribute much to the emotion of a text and can add noise to our vector representations.\n",
    "\n",
    "1.4.2 Which two learning methods from class did you choose and why did you made the choices?\n",
    "\n",
    "For the two learning methods from class, we decided to use the SVM and Naive Bayes training algorithms. \n",
    "While researching which algorithms to use for this text classification problem, we came across the paper\n",
    "\"Text Categorization with Support Vector Machines\" by Thorsten Joachims. In the paper, Joachims \n",
    "explores how SVMs are particularly effective at text categorization problems. In particular, \n",
    "the paper argues that SVMs are well suited for text categorization since they can \n",
    "handle high-dimensional features spaces well, which is common in text data. Additionally,\n",
    "the paper explain how many text classification problems are linearly seperable in high-dimensional\n",
    "feature space, which would make SVMs more effective by maximizing margins between classes. For these reasons,\n",
    "we decided to use SVM as one of our learning methods. For the vector embeddings used as inputs\n",
    "to the SVM model, we chose to use the TF-IDF embeddings since they provide normalized\n",
    "weights for terms, which would help prevent the decision boundaries from being skewed. \n",
    "\n",
    "For the second learning method, we decided to use Naive Bayes since we felt that it\n",
    "was the most intuitive. The Naive Bayes training algorithm assumes that the \n",
    "features, which in this case are the words, are conditionally independent given the\n",
    "label, which means that the presence or frequency of a word contributes independently \n",
    "to determining the label. Intuitively, text withs words that appear more frequently in a \n",
    "text of a certain label should have a higher probability of being assigned that label.\n",
    "However, we are aware that this assumption of feature independence most likely\n",
    "will not hold for most text since words in text are often correlated, combining to \n",
    "create emotion. While we predict that Naive Bayes would be less effective than SVM due\n",
    "to its relative simplicity, we decided to use Naive Bayes as a baseline for the\n",
    "other text classification methods. For the Naive Bayes model, we used the bag \n",
    "of words embeddings instead of TF-IDF used with the SVM model. \n",
    "This is because Naive Bayes assumes that the features are conditionally\n",
    "independent given the class label, which aligns with the bag of words embeddings,\n",
    "since it only represents the frequency of the terms and doesn't add any additional\n",
    "weights. Hence the freqency of each word in the bag of words embeddings are\n",
    "directly interpreted as a probabilities by the model. \n",
    "\n",
    "1.4.3 How did you do the model selection?\n",
    "\n",
    "For both SVM and Naive Bayes models, we did hyperparameter tuning to find the best hyperparameters.\n",
    "In particular, we used GridSearchCV to find the best hyperparameters for each model based\n",
    "on cross-validated accuracy scores. For the SVM, we tuned two parameters: C and the kernel. \n",
    "For the C value, we tested the values: [0.001, 0.01, 0.1, 1, 10]. We chose\n",
    "these values as they provide a wide range of C values and we limited the highest C\n",
    "to 10 since we didn't want to choose a C that would overfit the training examples\n",
    "too much, as a higher C value caused the model to place more importance on minimizing \n",
    "misclassifications on the training data. For the kernel, we tested the values \n",
    "['linear', 'poly', 'rbf', 'sigmoid'] as these we the kernels types that were\n",
    "specificed on the scikit learn SVM model. Based on our hyperparameter tuning\n",
    "we discovered that C = 1 and kernel = 'linear' achieved the highest accuracy on our validation set, so we \n",
    "selected those values for our SVM model evaluated on the test set. \n",
    "\n",
    "For the Naive Bayes model, we tuned the alpha parameter, which controls the\n",
    "Laplace smoothing, which ensures that there are no zero probabilities for words\n",
    "that are not in the training data. Using scikit learn's GridSearchCV, we tested\n",
    "alpha values from [0.1, 0.2, ..., 1]. We decided to test small alpha values since\n",
    "we wanted our model to be more sensitive to distinguishing features, which\n",
    "we predicted would enable our model to more easily differentiate between\n",
    "different emotions. Based on our results from GridSearchCV, we discovered that\n",
    "alpha = 0.2 was the most effective on our validation set, so we selected that\n",
    "alpha for the Naive Bayes model evaluated on the test set.\n",
    "\n",
    "1.4.4 Does the test performance reach the first baseline \"Tiny Piney\"? (Please include a screenshot of Kaggle Submission)\n",
    "\n",
    "For the Naive Bayes model, our submission (nb_predictions.csv) did not reach the first baseline \"Tiney Piney\":\n",
    "![Naive Bayes Accuracy](../images/NaiveBayes_Accuracy.png)\n",
    "\n",
    "For the SVM model (predictions.csv), we did reach the first baseline \"Tiney Piney\":\n",
    "![SVM Accuracy](../images/SVM_Accuracy.png)\n"
   ]
  },
  {
   "cell_type": "markdown",
   "metadata": {},
   "source": [
    "<h2>Part 2: Be creative!</h2><p>"
   ]
  },
  {
   "cell_type": "markdown",
   "metadata": {},
   "source": [
    "<h3>2.1 Open-ended Code:</h3><p>\n",
    "You may follow the steps in part 1 again but making innovative changes like using new training algorithms, etc. Make sure you explain everything clearly in part 2.2. Note that beating \"Zero Hero\" is only a small portion of this part. Any creative ideas will receive most points as long as they are reasonable and clearly explained."
   ]
  },
  {
   "cell_type": "markdown",
   "metadata": {},
   "source": [
    "### BERT"
   ]
  },
  {
   "cell_type": "code",
   "execution_count": null,
   "metadata": {},
   "outputs": [],
   "source": [
    "from transformers import BertTokenizer, BertForSequenceClassification, Trainer, TrainingArguments, EarlyStoppingCallback\n",
    "from sklearn.model_selection import StratifiedKFold\n",
    "from sklearn.metrics import accuracy_score\n",
    "import torch\n",
    "import numpy as np\n",
    "import pandas as pd\n",
    "\n",
    "# Load BERT tokenizer and model\n",
    "tokenizer = BertTokenizer.from_pretrained('bert-base-uncased')\n",
    "model = BertForSequenceClassification.from_pretrained('bert-base-uncased', num_labels=len(set(train_label)))\n",
    "\n",
    "# Define cross-validation strategy\n",
    "strat_k_fold = StratifiedKFold(n_splits=5)\n",
    "\n",
    "# Initialize lists to store results\n",
    "accuracies = []\n",
    "\n",
    "for fold, (train_idx, val_idx) in enumerate(strat_k_fold.split(train_text, train_label)):\n",
    "\n",
    "    # Split the data\n",
    "    X_train_fold, X_val_fold = np.array(train_text)[train_idx], np.array(train_text)[val_idx]\n",
    "    y_train_fold, y_val_fold = np.array(train_label)[train_idx], np.array(train_label)[val_idx]\n",
    "\n",
    "    # Tokenize the data\n",
    "    train_encodings = tokenizer(X_train_fold.tolist(), truncation=True, padding=True, max_length=128)\n",
    "    val_encodings = tokenizer(X_val_fold.tolist(), truncation=True, padding=True, max_length=128)\n",
    "\n",
    "    class EmotionDataset(torch.utils.data.Dataset):\n",
    "        def __init__(self, encodings, labels):\n",
    "            self.encodings = encodings\n",
    "            self.labels = labels\n",
    "\n",
    "        def __getitem__(self, idx):\n",
    "            item = {key: torch.tensor(val[idx]) for key, val in self.encodings.items()}\n",
    "            item['labels'] = torch.tensor(self.labels[idx])\n",
    "            return item\n",
    "\n",
    "        def __len__(self):\n",
    "            return len(self.labels)\n",
    "\n",
    "    train_dataset = EmotionDataset(train_encodings, y_train_fold.tolist())\n",
    "    val_dataset = EmotionDataset(val_encodings, y_val_fold.tolist())\n",
    "\n",
    "    # Define training arguments\n",
    "    training_args = TrainingArguments(\n",
    "        num_train_epochs=3,\n",
    "        per_device_train_batch_size=16,\n",
    "        per_device_eval_batch_size=64,\n",
    "        warmup_steps=500,\n",
    "        weight_decay=0.01,\n",
    "        learning_rate=5e-5,\n",
    "        evaluation_strategy=\"epoch\",\n",
    "        save_strategy=\"epoch\",\n",
    "        load_best_model_at_end=True,\n",
    "        lr_scheduler_type=\"linear\",\n",
    "    )\n",
    "\n",
    "    # Initialize Trainer\n",
    "    # Initialize Trainer with EarlyStoppingCallback\n",
    "    trainer = Trainer(\n",
    "        model=model,\n",
    "        args=training_args,\n",
    "        train_dataset=train_dataset,\n",
    "        eval_dataset=val_dataset,\n",
    "        compute_metrics=lambda p: {\"accuracy\": accuracy_score(p.label_ids, p.predictions.argmax(-1))},\n",
    "        callbacks=[EarlyStoppingCallback(early_stopping_patience=3)]\n",
    "    )\n",
    "    # Train the model\n",
    "    trainer.train()\n",
    "\n",
    "    # Evaluate the model\n",
    "    y_pred = trainer.predict(val_dataset)\n",
    "    preds = np.argmax(y_pred.predictions, axis=1)\n",
    "    accuracy = accuracy_score(y_val_fold, preds)\n",
    "    accuracies.append(accuracy)\n",
    "    print(f\"Fold {fold + 1} Accuracy: {accuracy}\")\n",
    "\n",
    "# Calculate average accuracy\n",
    "average_accuracy = np.mean(accuracies)\n",
    "print(f\"Average Cross-Validation Accuracy: {average_accuracy}\")\n",
    "\n"
   ]
  },
  {
   "cell_type": "code",
   "execution_count": null,
   "metadata": {},
   "outputs": [],
   "source": [
    "test_encodings = tokenizer(test_text, truncation=True, padding=True, max_length=128)\n",
    "test_dataset = EmotionDataset(test_encodings, [0]*len(test_text))  # Dummy labels\n",
    "\n",
    "# Generate predictions for the test dataset using BERT model\n",
    "predictions = trainer.predict(test_dataset)\n",
    "bert_predictions = predictions.predictions.argmax(-1)\n",
    "\n",
    "# Save BERT predictions to CSV\n",
    "bert_submission = pd.DataFrame({'id': range(len(bert_predictions)), 'label': bert_predictions})\n",
    "bert_submission.to_csv('../submission/bert_cross_val_submission.csv', index=False)"
   ]
  },
  {
   "cell_type": "markdown",
   "metadata": {},
   "source": [
    "### Train BERT model"
   ]
  },
  {
   "cell_type": "code",
   "execution_count": null,
   "metadata": {},
   "outputs": [],
   "source": [
    "# Train the model\n",
    "trainer.train()\n",
    "\n",
    "# Generate predictions for the validation dataset using BERT model\n",
    "predictions = trainer.predict(test_dataset)\n",
    "bert_predictions = predictions.predictions.argmax(-1)\n",
    "\n",
    "accuracy_bert = accuracy_score(y_val, bert_predictions)\n",
    "print(f'BERT Accuracy: {accuracy_bert}')"
   ]
  },
  {
   "cell_type": "markdown",
   "metadata": {},
   "source": [
    "<h3>2.2 Explanation in Words:</h3><p>\n",
    "You need to answer the following questions in a markdown cell after this cell:"
   ]
  },
  {
   "cell_type": "markdown",
   "metadata": {},
   "source": [
    "2.2.1 How much did you manage to improve performance on the test set? Did you beat \"Zero Hero\" in Kaggle? (Please include a screenshot of Kaggle Submission)\n",
    "\n",
    "With our SVM approach, we managed to achieve an accuracy of 0.68600, but with our approach using BERT, we managed to raise the accuracy by 0.0844 to 0.77040. Below is a screenshot of the the kaggle submission accuracy on the leaderboard, our team name is \"Lebron James\":\n",
    "\n",
    "2.2.2 Please explain in detail how you achieved this and what you did specifically and why you tried this.\n",
    "\n"
   ]
  },
  {
   "cell_type": "markdown",
   "metadata": {},
   "source": [
    "<h2>Part 3: Kaggle Submission</h2><p>\n",
    "You need to generate a prediction CSV using the following cell from your trained model and submit the direct output of your code to Kaggle. The results should be presented in two columns in csv format: the first column is the data id (0-14999) and the second column includes the predictions for the test set. The first column must be named id and the second column must be named label (otherwise your submission will fail). A sample predication file can be downloaded from Kaggle for each problem. \n",
    "We provide how to save a csv file if you are running Notebook on Kaggle."
   ]
  },
  {
   "cell_type": "code",
   "execution_count": null,
   "metadata": {},
   "outputs": [],
   "source": [
    "# TODO\n",
    "id = range(15000)\n",
    "# Vectorize the test data and make predictions\n",
    "svm_predictions = svm_model.predict(vectorizer_tfidf.transform(test_text))\n",
    "nb_predictions = nb_model.predict(vectorizer_bow.transform(test_text))\n",
    "\n",
    "# Save predictions to CSV\n",
    "svm_submission = pd.DataFrame({'id': id, 'label': svm_predictions})\n",
    "nb_submission = pd.DataFrame({'id': id, 'label': nb_predictions})\n",
    "\n",
    "svm_submission.to_csv('../submission/svm_predictions.csv', index=False)\n",
    "nb_submission.to_csv('../submission/nb_predictions.csv', index=False)"
   ]
  },
  {
   "cell_type": "code",
   "execution_count": null,
   "metadata": {},
   "outputs": [],
   "source": [
    "\n",
    "# Save BERT predictions to CSV\n",
    "# Tokenize the test data\n",
    "test_encodings = tokenizer(test_text.tolist(), truncation=True, padding=True, max_length=128)\n",
    "test_dataset = EmotionDataset(test_encodings, [0]*len(test_text))  # Dummy labels\n",
    "\n",
    "# Generate predictions for the test dataset using BERT model\n",
    "predictions = trainer.predict(test_dataset)\n",
    "bert_predictions = predictions.predictions.argmax(-1)\n",
    "\n",
    "# Save BERT predictions to CSV\n",
    "bert_submission = pd.DataFrame({'id': range(len(bert_predictions)), 'label': bert_predictions})\n",
    "bert_submission.to_csv('../submission/bert_submission.csv', index=False)"
   ]
  },
  {
   "cell_type": "markdown",
   "metadata": {},
   "source": [
    "<h2>Part 4: Resources and Literature Used</h2><p>"
   ]
  },
  {
   "cell_type": "markdown",
   "metadata": {},
   "source": [
    "Please cite the papers and open resources you used.\n",
    "\n",
    "Papers:\n",
    "- SVM paper: https://www.cs.cornell.edu/~tj/publications/joachims_98a.pdf\n",
    "\n",
    "scikit-learn documentation used:\n",
    "- TfidfVectorizer: https://scikit-learn.org/1.5/modules/generated/sklearn.feature_extraction.text.TfidfVectorizer.html\n",
    "- CountVectorizer: https://scikit-learn.org/1.5/modules/generated/sklearn.feature_extraction.text.CountVectorizer.html\n",
    "- MultinomialNB: https://scikit-learn.org/1.5/modules/generated/sklearn.naive_bayes.MultinomialNB.html\n",
    "- SVC: https://scikit-learn.org/1.5/modules/generated/sklearn.svm.SVC.html\n",
    "- GridSearchCV: https://scikit-learn.org/1.5/modules/generated/sklearn.model_selection.GridSearchCV.html\n",
    "- train_test_split: https://scikit-learn.org/1.5/modules/generated/sklearn.model_selection.train_test_split.html\n",
    "\n",
    "\n"
   ]
  },
  {
   "cell_type": "markdown",
   "metadata": {},
   "source": [
    "https://huggingface.co/docs/transformers/en/model_doc/bert \n",
    "https://arxiv.org/pdf/1810.04805\n",
    "https://huggingface.co/docs/transformers/en/index\n",
    "https://scikit-learn.org/stable/modules/generated/sklearn.model_selection.StratifiedKFold.html"
   ]
  }
 ],
 "metadata": {
  "kernelspec": {
   "display_name": "ml_final_project_env",
   "language": "python",
   "name": "python3"
  },
  "language_info": {
   "codemirror_mode": {
    "name": "ipython",
    "version": 3
   },
   "file_extension": ".py",
   "mimetype": "text/x-python",
   "name": "python",
   "nbconvert_exporter": "python",
   "pygments_lexer": "ipython3",
   "version": "3.8.20"
  }
 },
 "nbformat": 4,
 "nbformat_minor": 4
}
